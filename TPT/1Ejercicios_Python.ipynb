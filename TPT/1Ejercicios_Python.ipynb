{
  "nbformat": 4,
  "nbformat_minor": 0,
  "metadata": {
    "colab": {
      "provenance": [],
      "authorship_tag": "ABX9TyOerQn3y8DBypncGCz802gG",
      "include_colab_link": true
    },
    "kernelspec": {
      "name": "python3",
      "display_name": "Python 3"
    },
    "language_info": {
      "name": "python"
    }
  },
  "cells": [
    {
      "cell_type": "markdown",
      "metadata": {
        "id": "view-in-github",
        "colab_type": "text"
      },
      "source": [
        "<a href=\"https://colab.research.google.com/github/3manue1077/EjercicioPythonERF/blob/main/TPT/1Ejercicios_Python.ipynb\" target=\"_parent\"><img src=\"https://colab.research.google.com/assets/colab-badge.svg\" alt=\"Open In Colab\"/></a>"
      ]
    },
    {
      "cell_type": "code",
      "source": [
        "#1. Escribe un programa que imprima \"Hola Mundo\".\n",
        "\n",
        "print(\"Hola Mundo\")"
      ],
      "metadata": {
        "colab": {
          "base_uri": "https://localhost:8080/"
        },
        "id": "wI4FYpdtniuW",
        "outputId": "eb2784a4-e992-4165-f0d0-3ee2ccf0a9f9"
      },
      "execution_count": null,
      "outputs": [
        {
          "output_type": "stream",
          "name": "stdout",
          "text": [
            "Hola Mundo\n"
          ]
        }
      ]
    },
    {
      "cell_type": "code",
      "source": [
        "#2. Pide al usuario su nombre y muéstralo en pantalla.\n",
        "\n",
        "nombre = \"Emanuel\"\n",
        "print(\"Hola\", nombre)"
      ],
      "metadata": {
        "colab": {
          "base_uri": "https://localhost:8080/"
        },
        "id": "52zB79wdnxHA",
        "outputId": "52bd4644-d207-4a3e-adfd-2ae6e175e4c5"
      },
      "execution_count": null,
      "outputs": [
        {
          "output_type": "stream",
          "name": "stdout",
          "text": [
            "Hola Emanuel\n"
          ]
        }
      ]
    },
    {
      "cell_type": "code",
      "source": [
        "#3. Pide dos números al usuario y muestra su suma\n",
        "\n",
        "num1= 5\n",
        "num2= 7\n",
        "suma = num1 + num2\n",
        "print(\"la suma de\", num1, \"y\", num2, \"es:\", suma)"
      ],
      "metadata": {
        "colab": {
          "base_uri": "https://localhost:8080/"
        },
        "id": "1ivWTyKsq0WV",
        "outputId": "2c42c3dc-cf97-4950-fbe7-8bc1883bf5b6"
      },
      "execution_count": null,
      "outputs": [
        {
          "output_type": "stream",
          "name": "stdout",
          "text": [
            "la suma de 5 y 7 es: 12\n"
          ]
        }
      ]
    },
    {
      "cell_type": "code",
      "source": [
        "#4. Calcula el área de un triángulo con base y altura dadas\n",
        "\n",
        "base = 10\n",
        "altura = 6\n",
        "area = (base * altura) / 2\n",
        "print(\"el área de un triángulo con base\", base, \"y altura\", altura, \"es:\", area)"
      ],
      "metadata": {
        "colab": {
          "base_uri": "https://localhost:8080/"
        },
        "id": "rlXEwR3Or2mI",
        "outputId": "50fe0ebf-d5ab-4ea7-e4af-493b4a70e9eb"
      },
      "execution_count": null,
      "outputs": [
        {
          "output_type": "stream",
          "name": "stdout",
          "text": [
            "el área de un triángulo con base 10 y altura 6 es: 30.0\n"
          ]
        }
      ]
    },
    {
      "cell_type": "code",
      "source": [
        "#5. Convierte grados Celsius a Fahrenheit.\n",
        "\n",
        "celsius = 25\n",
        "fahrenheit = (celsius * 9/5) + 32\n",
        "print(celsius, \"°c equivalen a\", fahrenheit, \"°f\")"
      ],
      "metadata": {
        "id": "EU72sMe2vioe",
        "colab": {
          "base_uri": "https://localhost:8080/"
        },
        "outputId": "ce3be073-eb9a-4ef6-d7df-157e4f7eed54"
      },
      "execution_count": null,
      "outputs": [
        {
          "output_type": "stream",
          "name": "stdout",
          "text": [
            "25 °c equivalen a 77.0 °f\n"
          ]
        }
      ]
    },
    {
      "cell_type": "code",
      "source": [
        "#6. Pide un número e imprime si es par o impar.\n",
        "\n",
        "numero = 8\n",
        "if numero % 2 == 0:\n",
        "    print(\"El Número\", numero, \"es par\")\n",
        "else:\n",
        "    print(\"El Número\", numero, \"es impar\")"
      ],
      "metadata": {
        "colab": {
          "base_uri": "https://localhost:8080/"
        },
        "id": "vut5ZeY7xHN_",
        "outputId": "cc9e6c22-1eb4-430e-d6ed-0c53c37f9d7d"
      },
      "execution_count": null,
      "outputs": [
        {
          "output_type": "stream",
          "name": "stdout",
          "text": [
            "El Número 8 es par\n"
          ]
        }
      ]
    },
    {
      "cell_type": "code",
      "source": [
        "#7. Pide tres números e imprime el mayor de ellos.\n",
        "\n",
        "a = 23\n",
        "b = 7\n",
        "c = 11\n",
        "\n",
        "if a >=b and a >=c:\n",
        "    mayor = a\n",
        "elif b >= a and b >=c:\n",
        "    mayor = b\n",
        "else:\n",
        "    mayor = c\n",
        "print(\"Entre\", a, b, \"y\", c, \"el mayor es:\", mayor)"
      ],
      "metadata": {
        "colab": {
          "base_uri": "https://localhost:8080/"
        },
        "id": "beyIE31xy1kq",
        "outputId": "90c61a0e-4f1a-4b3e-9b06-cae8e05f98ae"
      },
      "execution_count": null,
      "outputs": [
        {
          "output_type": "stream",
          "name": "stdout",
          "text": [
            "Entre 23 7 y 11 el mayor es: 23\n"
          ]
        }
      ]
    },
    {
      "cell_type": "code",
      "source": [
        "#8. Calcula el cuadrado de un número.\n",
        "\n",
        "num = 9\n",
        "cuadrado = num * num\n",
        "print(\"El cuadrado de\", num, \"es:\",\n",
        "cuadrado)"
      ],
      "metadata": {
        "colab": {
          "base_uri": "https://localhost:8080/"
        },
        "id": "WCLpn2Uy5vNa",
        "outputId": "75f18490-938d-4200-b0c3-c0169699c7d0"
      },
      "execution_count": null,
      "outputs": [
        {
          "output_type": "stream",
          "name": "stdout",
          "text": [
            "El cuadrado de 9 es: 81\n"
          ]
        }
      ]
    },
    {
      "cell_type": "code",
      "source": [
        "#9. Pide un número y muestra su tabla de multiplicar.\n",
        "\n",
        "n = 7\n",
        "print(\"Tabla de multiplicar del\", n)\n",
        "for i in range(1, 11):\n",
        "    print(n, \"x\", i, \"=\", n * i)"
      ],
      "metadata": {
        "colab": {
          "base_uri": "https://localhost:8080/"
        },
        "id": "j0TyFw428A7m",
        "outputId": "2a9fadc1-d834-4936-b8af-d08622156286"
      },
      "execution_count": null,
      "outputs": [
        {
          "output_type": "stream",
          "name": "stdout",
          "text": [
            "Tabla de multiplicar del 7\n",
            "7 x 1 = 7\n",
            "7 x 2 = 14\n",
            "7 x 3 = 21\n",
            "7 x 4 = 28\n",
            "7 x 5 = 35\n",
            "7 x 6 = 42\n",
            "7 x 7 = 49\n",
            "7 x 8 = 56\n",
            "7 x 9 = 63\n",
            "7 x 10 = 70\n"
          ]
        }
      ]
    },
    {
      "cell_type": "code",
      "source": [
        "#10. Pide una palabra y muéstrala al revés.\n",
        "\n",
        "palabra = \"amor\"\n",
        "reves=\"\"\n",
        "for letra in palabra:\n",
        "    reves = letra + reves\n",
        "print(\"la palabra\", palabra, \"al revés es:\", reves)"
      ],
      "metadata": {
        "colab": {
          "base_uri": "https://localhost:8080/"
        },
        "id": "fienmZmh99Qm",
        "outputId": "4bdaddbe-ac94-459d-a40f-d70414e37d58"
      },
      "execution_count": null,
      "outputs": [
        {
          "output_type": "stream",
          "name": "stdout",
          "text": [
            "la palabra amor al revés es: roma\n"
          ]
        }
      ]
    },
    {
      "cell_type": "code",
      "source": [
        "#11. Pide la edad y determina si es mayor o menor de edad\n",
        "\n",
        "edad = 7\n",
        "if edad >= 18:\n",
        "    print(\"con\", edad, \"años eres mayor de edad\")\n",
        "else:\n",
        "    print(\"con\", edad, \"años eres menor de edad\")"
      ],
      "metadata": {
        "colab": {
          "base_uri": "https://localhost:8080/"
        },
        "id": "Y8ziM5O1_4KN",
        "outputId": "63b52e00-1de2-4399-f0ca-b60bd358632c"
      },
      "execution_count": null,
      "outputs": [
        {
          "output_type": "stream",
          "name": "stdout",
          "text": [
            "con 7 años eres menor de edad\n"
          ]
        }
      ]
    },
    {
      "cell_type": "code",
      "source": [
        "#12. Calcula la factorial de un número.\n",
        "\n",
        "n = 5\n",
        "fact = 1\n",
        "for i in range(1, n+1):\n",
        "    fact = fact * i\n",
        "print(\"El factorial de\", n, \"es:\", fact)"
      ],
      "metadata": {
        "colab": {
          "base_uri": "https://localhost:8080/"
        },
        "id": "mHeQg6oVB7ZY",
        "outputId": "28e9f443-2699-4ea8-a991-e3668747c9aa"
      },
      "execution_count": null,
      "outputs": [
        {
          "output_type": "stream",
          "name": "stdout",
          "text": [
            "El factorial de 5 es: 120\n"
          ]
        }
      ]
    },
    {
      "cell_type": "code",
      "source": [
        "#13. Pide 5 números y muestra el promedio.\n",
        "n1, n2, n3, n4, n5 = 10, 20, 30, 40, 50\n",
        "suma = n1 + n2 + n3 + n4 + n5\n",
        "promedio = suma/ 5\n",
        "print(\"los números son:\", n1, n2, n3, n4, n5)\n",
        "print(\"el promedio es:\", promedio)"
      ],
      "metadata": {
        "colab": {
          "base_uri": "https://localhost:8080/"
        },
        "id": "Uiok25TzFomL",
        "outputId": "22011955-ac46-48ed-9439-335a3a69f842"
      },
      "execution_count": null,
      "outputs": [
        {
          "output_type": "stream",
          "name": "stdout",
          "text": [
            "los números son: 10 20 30 40 50\n",
            "el promedio es: 30.0\n"
          ]
        }
      ]
    },
    {
      "cell_type": "code",
      "source": [
        "#14. Pide un número y muestra todos los pares desde 1 hasta ese número.\n",
        "\n",
        "n = 14\n",
        "print(\"números pares desde 1 hasta\", n, \":\")\n",
        "for i in range(1, n+1):\n",
        "    if i % 2 == 0:\n",
        "        print(i)"
      ],
      "metadata": {
        "colab": {
          "base_uri": "https://localhost:8080/"
        },
        "id": "NEkh_Z1wH3Hv",
        "outputId": "3b3f9e73-daff-4ab1-d667-6b43e64e6aff"
      },
      "execution_count": null,
      "outputs": [
        {
          "output_type": "stream",
          "name": "stdout",
          "text": [
            "números pares desde 1 hasta 14 :\n",
            "2\n",
            "4\n",
            "6\n",
            "8\n",
            "10\n",
            "12\n",
            "14\n"
          ]
        }
      ]
    },
    {
      "cell_type": "code",
      "source": [
        "#15. Pide una letra y determina si es vocal o consonante.\n",
        "\n",
        "letra = \"e\"\n",
        "if letra in \"aeiou\":\n",
        "    print(\"la letra\", letra, \"es una vocal\")\n",
        "else:\n",
        "    print(\"la letra\", letra, \"es una consonante\")"
      ],
      "metadata": {
        "colab": {
          "base_uri": "https://localhost:8080/"
        },
        "id": "hj9FYlmbH4JZ",
        "outputId": "58fb6e76-d98c-41c8-992b-5c3e995c9008"
      },
      "execution_count": null,
      "outputs": [
        {
          "output_type": "stream",
          "name": "stdout",
          "text": [
            "la letra e es una vocal\n"
          ]
        }
      ]
    },
    {
      "cell_type": "code",
      "source": [
        "#16. Imprime los primeros 20 números de la serie de Fibonacci.\n",
        "\n",
        "a, b = 0, 1\n",
        "print(\"primeros 20 números de Fibonacci:\")\n",
        "for i in range(20):\n",
        "    print(a, end=\" \")\n",
        "    siguiente = a + b\n",
        "    a = b\n",
        "    b = siguiente\n",
        "print()"
      ],
      "metadata": {
        "colab": {
          "base_uri": "https://localhost:8080/"
        },
        "id": "ROd8Sz3qP5OH",
        "outputId": "3b58c4e0-bb42-4a59-b4d5-8c7ce374d2a1"
      },
      "execution_count": null,
      "outputs": [
        {
          "output_type": "stream",
          "name": "stdout",
          "text": [
            "primeros 20 números de Fibonacci:\n",
            "0 1 1 2 3 5 8 13 21 34 55 89 144 233 377 610 987 1597 2584 4181 \n"
          ]
        }
      ]
    },
    {
      "cell_type": "code",
      "source": [
        "#17. Pide un número y verifica si es primo.\n",
        "\n",
        "n = 41\n",
        "es_primo = True\n",
        "if n < 2:\n",
        "    es_primo = False\n",
        "else:\n",
        "    for i in range(2, n):\n",
        "        if n % i == 0:\n",
        "            es_primo = False\n",
        "            break\n",
        "\n",
        "if es_primo:\n",
        "    print(n, \"es un número primo\")\n",
        "else:\n",
        "    print(n, \"NO es un número primo\")"
      ],
      "metadata": {
        "colab": {
          "base_uri": "https://localhost:8080/"
        },
        "id": "L6vEn2o1RnLk",
        "outputId": "d105e243-b8c2-425e-86c6-884307645565"
      },
      "execution_count": null,
      "outputs": [
        {
          "output_type": "stream",
          "name": "stdout",
          "text": [
            "41 es un número primo\n"
          ]
        }
      ]
    },
    {
      "cell_type": "code",
      "source": [
        "#18. Genera una lista con los números del 1 al 100 y muestra solo los múltiplos de 5.\n",
        "\n",
        "print(\"múltiplos del 5 entre 1 al 100:\")\n",
        "multiples_of_5 = [i for i in range(1, 101) if i % 5 == 0]\n",
        "print(*multiples_of_5)"
      ],
      "metadata": {
        "colab": {
          "base_uri": "https://localhost:8080/"
        },
        "id": "Jfywm9t_T3vX",
        "outputId": "0258ae74-ff28-419c-8a43-2e69c2fdafb9"
      },
      "execution_count": null,
      "outputs": [
        {
          "output_type": "stream",
          "name": "stdout",
          "text": [
            "múltiplos del 5 entre 1 al 100:\n",
            "5 10 15 20 25 30 35 40 45 50 55 60 65 70 75 80 85 90 95 100\n"
          ]
        }
      ]
    },
    {
      "cell_type": "code",
      "source": [
        "#19. Cuenta cuántas vocales tiene una palabra ingresada.\n",
        "\n",
        "palabra = \"computadora\"\n",
        "contador = 0\n",
        "for letra in palabra:\n",
        "    if letra in \"aeiou\":\n",
        "        contador = contador + 1\n",
        "print(\"la palabra\", palabra, \"tiene\",\n",
        "contador, \"vocales\")"
      ],
      "metadata": {
        "id": "4YlgGXWGXh6-",
        "colab": {
          "base_uri": "https://localhost:8080/"
        },
        "outputId": "6d020983-f3fb-486c-e71c-420cb2f0ff72"
      },
      "execution_count": null,
      "outputs": [
        {
          "output_type": "stream",
          "name": "stdout",
          "text": [
            "la palabra computadora tiene 5 vocales\n"
          ]
        }
      ]
    },
    {
      "cell_type": "code",
      "source": [
        "#20. Simula una calculadora (suma, resta, multiplicación, división).\n",
        "\n",
        "a = 9\n",
        "b = 7\n",
        "\n",
        "print(\"suma:\", a + b)\n",
        "print(\"resta:\", a - b)\n",
        "print(\"multiplicación:\", a * b)\n",
        "if b != 0:\n",
        "    print(\"división:\", a / b)\n",
        "else:\n",
        "    print(\"no se puede dividir entre 0\")"
      ],
      "metadata": {
        "id": "boYVNp_0ZqR3",
        "colab": {
          "base_uri": "https://localhost:8080/"
        },
        "outputId": "866a4967-fca6-4a37-acd7-0bf3edd18f4e"
      },
      "execution_count": null,
      "outputs": [
        {
          "output_type": "stream",
          "name": "stdout",
          "text": [
            "suma: 16\n",
            "resta: 2\n",
            "multiplicación: 63\n",
            "división: 1.2857142857142858\n"
          ]
        }
      ]
    },
    {
      "cell_type": "code",
      "source": [
        "#21. Crea una lista con 10 números y encuentra el mayor\n",
        "\n",
        "lista = [1, 3, 5, 7, 9, 2, 4, 6, 8, 0]\n",
        "mayor = lista[0]\n",
        "for num in lista:\n",
        "    if num > mayor:\n",
        "        mayor = num\n",
        "print(\"la lista es:\", lista)\n",
        "print(\"el número mayor es:\", mayor)"
      ],
      "metadata": {
        "id": "vj5KUpjMcyoV",
        "colab": {
          "base_uri": "https://localhost:8080/"
        },
        "outputId": "0063b21e-5af3-42f6-abd2-7468027a9ebd"
      },
      "execution_count": null,
      "outputs": [
        {
          "output_type": "stream",
          "name": "stdout",
          "text": [
            "la lista es: [1, 3, 5, 7, 9, 2, 4, 6, 8, 0]\n",
            "el número mayor es: 9\n"
          ]
        }
      ]
    },
    {
      "cell_type": "code",
      "source": [
        "#22. Ordena una lista de números de menor a mayor.\n",
        "\n",
        "lista = [50, 15, 20, 40, 35, 10, 25, 30, 45]\n",
        "lista.sort() # Use the sort() method to sort the list in place\n",
        "print(\"la lista ordenada es:\", lista)"
      ],
      "metadata": {
        "id": "1bovw5pVfk8j",
        "colab": {
          "base_uri": "https://localhost:8080/"
        },
        "outputId": "e1b51c3c-4088-4a52-8571-6fa47e58ba05"
      },
      "execution_count": null,
      "outputs": [
        {
          "output_type": "stream",
          "name": "stdout",
          "text": [
            "la lista ordenada es: [10, 15, 20, 25, 30, 35, 40, 45, 50]\n"
          ]
        }
      ]
    },
    {
      "cell_type": "code",
      "source": [
        "#23. Elimina los duplicados de una lista.\n",
        "\n",
        "lista = [1, 2, 3, 4, 4]\n",
        "sin_dup = []\n",
        "for num in lista:\n",
        "    if num not in sin_dup:\n",
        "        sin_dup.append(num)\n",
        "print(\"Lista original:\", lista)\n",
        "print(\"Lista sin duplicados:\", sin_dup)"
      ],
      "metadata": {
        "id": "aoDMAV5Z8qFx",
        "colab": {
          "base_uri": "https://localhost:8080/"
        },
        "outputId": "5295fc3a-aed9-4593-a508-5917b032ba99"
      },
      "execution_count": null,
      "outputs": [
        {
          "output_type": "stream",
          "name": "stdout",
          "text": [
            "Lista original: [1, 2, 3, 4, 4]\n",
            "Lista sin duplicados: [1, 2, 3, 4]\n"
          ]
        }
      ]
    },
    {
      "cell_type": "code",
      "source": [
        "#24. Crea una lista con nombres y ordénala alfabéticamente.\n",
        "\n",
        "nombres = [\"Pedro\", \"Emanuel\", \"Junior\", \"Andrés\"]\n",
        "print(\"Lista original:\", nombres)\n",
        "for i in range(len(nombres)):\n",
        "    for j in range(i+1, len(nombres)):\n",
        "        if nombres[i] > nombres[j]:\n",
        "            nombres[i], nombres[j] = nombres[j], nombres[i]\n",
        "print(\"Lista ordenada:\", nombres)"
      ],
      "metadata": {
        "id": "v0Mxnaeb98M1",
        "colab": {
          "base_uri": "https://localhost:8080/"
        },
        "outputId": "341b80ab-6ee9-4bd6-c5b4-ad31d260648b"
      },
      "execution_count": null,
      "outputs": [
        {
          "output_type": "stream",
          "name": "stdout",
          "text": [
            "Lista original: ['Pedro', 'Emanuel', 'Junior', 'Andrés']\n",
            "Lista ordenada: ['Andrés', 'Emanuel', 'Junior', 'Pedro']\n"
          ]
        }
      ]
    },
    {
      "cell_type": "code",
      "source": [
        "#25. Suma todos los números de una lista.\n",
        "\n",
        "lista = [5, 10, 15, 20, 25]\n",
        "suma = sum(lista)\n",
        "print(\"La lista es:\", lista)\n",
        "print(\"La suma de los números es:\", suma)\n"
      ],
      "metadata": {
        "id": "7Zsd5s4JA4Kw",
        "colab": {
          "base_uri": "https://localhost:8080/"
        },
        "outputId": "e07bea89-45ea-4d44-ee19-74eaebfbaed8"
      },
      "execution_count": null,
      "outputs": [
        {
          "output_type": "stream",
          "name": "stdout",
          "text": [
            "La lista es: [5, 10, 15, 20, 25]\n",
            "La suma de los números es: 75\n"
          ]
        }
      ]
    },
    {
      "cell_type": "code",
      "source": [
        "#26. Une dos listas en una sola.\n",
        "\n",
        "lista1 = [1, 2, 3]\n",
        "lista2 = [4, 5, 6]\n",
        "lista_unida = lista1 + lista2\n",
        "for num in lista2:\n",
        "    lista1.append(num)\n",
        "print(\"Lista 1:\", lista1)\n",
        "print(\"Lista 2:\", lista2)\n",
        "print(\"Lista unida:\", lista_unida)"
      ],
      "metadata": {
        "colab": {
          "base_uri": "https://localhost:8080/"
        },
        "id": "VlFQYVa1FjXH",
        "outputId": "089c3809-14b8-4a70-8b1f-b96fedf0e51c"
      },
      "execution_count": null,
      "outputs": [
        {
          "output_type": "stream",
          "name": "stdout",
          "text": [
            "Lista 1: [1, 2, 3, 4, 5, 6]\n",
            "Lista 2: [4, 5, 6]\n",
            "Lista unida: [1, 2, 3, 4, 5, 6]\n"
          ]
        }
      ]
    },
    {
      "cell_type": "code",
      "source": [
        "#27. Pide una frase y cuenta cuántas palabras tiene.\n",
        "\n",
        "frase = \"Estoy aprendiendo a usar Python\"\n",
        "palabras = frase.split()\n",
        "print(\"La frase es:\", frase)\n",
        "print(\"Tiene\", len(palabras), \"palabras\")\n"
      ],
      "metadata": {
        "colab": {
          "base_uri": "https://localhost:8080/"
        },
        "id": "R7nJzyZVHEmX",
        "outputId": "98466562-86e1-40c0-80bb-d9e05b32c7f6"
      },
      "execution_count": null,
      "outputs": [
        {
          "output_type": "stream",
          "name": "stdout",
          "text": [
            "La frase es: Estoy aprendiendo a usar Python\n",
            "Tiene 5 palabras\n"
          ]
        }
      ]
    },
    {
      "cell_type": "code",
      "source": [
        "#28. Verifica si una palabra es palíndromo.\n",
        "\n",
        "palabra = \"reconocer\"\n",
        "reves = palabra[::-1]\n",
        "if palabra == reves:\n",
        "    print(\"La palabra\", palabra, \"es un palíndromo\")\n",
        "else:\n",
        "    print(\"La palabra\", palabra, \"NO es un palíndromo\")\n",
        "\n"
      ],
      "metadata": {
        "colab": {
          "base_uri": "https://localhost:8080/"
        },
        "id": "8-vjDahYH4tP",
        "outputId": "d1a087ce-9f01-42dc-b0fb-24298448a833"
      },
      "execution_count": null,
      "outputs": [
        {
          "output_type": "stream",
          "name": "stdout",
          "text": [
            "La palabra reconocer es un palíndromo\n"
          ]
        }
      ]
    },
    {
      "cell_type": "code",
      "source": [
        "#29. Crea una lista con los cuadrados de los 10 primeros números.\n",
        "\n",
        "cuadrados = []\n",
        "for i in range(1, 11):\n",
        "    cuadrados.append(i**2)\n",
        "print(\"Los cuadrados de los 10 primeros números son:\", cuadrados)"
      ],
      "metadata": {
        "colab": {
          "base_uri": "https://localhost:8080/"
        },
        "id": "DMU1EXTGM9Ho",
        "outputId": "0b0414f9-150d-46e0-d435-870a02632d1c"
      },
      "execution_count": null,
      "outputs": [
        {
          "output_type": "stream",
          "name": "stdout",
          "text": [
            "Los cuadrados de los 10 primeros números son: [1, 4, 9, 16, 25, 36, 49, 64, 81, 100]\n"
          ]
        }
      ]
    },
    {
      "cell_type": "code",
      "source": [
        "#30. Encuentra el segundo número más grande de una lista\n",
        "\n",
        "lista = [5, 10, 15, 20, 25]\n",
        "mayor = lista[0]\n",
        "segundo = lista[0]\n",
        "for num in lista:\n",
        "    if num > mayor:\n",
        "        segundo = mayor\n",
        "        mayor = num\n",
        "    elif num > segundo and num != mayor:\n",
        "        segundo = num\n",
        "print(\"La lista es:\", lista)\n",
        "print(\"El segundo número más grande es:\", segundo)\n"
      ],
      "metadata": {
        "colab": {
          "base_uri": "https://localhost:8080/"
        },
        "id": "g9Rxxs6UODo4",
        "outputId": "bdaea961-ae1a-4efd-8cca-315def6e1db6"
      },
      "execution_count": null,
      "outputs": [
        {
          "output_type": "stream",
          "name": "stdout",
          "text": [
            "La lista es: [5, 10, 15, 20, 25]\n",
            "El segundo número más grande es: 20\n"
          ]
        }
      ]
    }
  ]
}